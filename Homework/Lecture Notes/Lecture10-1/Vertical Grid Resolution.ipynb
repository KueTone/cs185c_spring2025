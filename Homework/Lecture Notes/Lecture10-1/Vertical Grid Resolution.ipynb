{
 "cells": [
  {
   "cell_type": "markdown",
   "id": "e1bccdd8-5078-4083-925d-b542ead53327",
   "metadata": {},
   "source": [
    "# Determining Vertical Grid Resolution\n",
    "\n",
    "Typically, ocean models are constructed with a fine vertical resolution near the surface and coarser at depth. The finer resolution at the surface represent the mixing and dynamics at the surface which are much faster that in deeper regions of the ocean.\n",
    "\n",
    "Here, we'll explore a few different examples of vertical grid resolution. Begin by importing a modules to create and plot data:"
   ]
  },
  {
   "cell_type": "code",
   "execution_count": null,
   "id": "5fb87bef-f31f-4597-bd25-856dc1161e97",
   "metadata": {},
   "outputs": [],
   "source": [
    "import numpy as np\n",
    "import matplotlib.pyplot as plt"
   ]
  },
  {
   "cell_type": "markdown",
   "id": "95520e97-5aad-4b1d-9bdb-e92eb9cb32a4",
   "metadata": {},
   "source": [
    "In MITgcm, the vertical grid spacing can be provided with a `delR` keyword in the `PARM04` list of the `data` file. Consider the following vertical grid paramterizations for three different models:"
   ]
  },
  {
   "cell_type": "code",
   "execution_count": null,
   "id": "aa46f8f9-ec9c-4e60-8f68-2564bb93dfb4",
   "metadata": {},
   "outputs": [],
   "source": [
    "# from tutorial_global_oce_latlon (4 degree)\n",
    "delR_coarse = np.array([50.,  70., 100., 140., 190.,\n",
    "                 240., 290., 340., 390., 440.,\n",
    "                 490., 540., 590., 640., 690.,])\n",
    "\n",
    "# from ECCO Version 5 (1/3)\n",
    "delR_medium = np.array([10.00, 10.00, 10.00, 10.00, 10.00, 10.00, 10.00, 10.01,\n",
    "                 10.03, 10.11, 10.32, 10.80, 11.76, 13.42, 16.04, 19.82, 24.85,\n",
    "                 31.10, 38.42, 46.50, 55.00, 63.50, 71.58, 78.90, 85.15, 90.18,\n",
    "                 93.96, 96.58, 98.25, 99.25,100.01,101.33,104.56,111.33,122.83,\n",
    "                 139.09,158.94,180.83,203.55,226.50,249.50,272.50,295.50,318.50,\n",
    "                 341.50,364.50,387.50,410.50,433.50,456.50])\n",
    "\n",
    "\n",
    "# from ECCO LLC 4320 (1/48)\n",
    "delR_fine = np.array([ 1.00,    1.14,    1.30,    1.49,   1.70,\n",
    "                  1.93,    2.20,    2.50,    2.84,   3.21,\n",
    "                  3.63,    4.10,    4.61,    5.18,   5.79,\n",
    "                  6.47,    7.20,    7.98,    8.83,   9.73,\n",
    "                 10.69,   11.70,   12.76,   13.87,  15.03,\n",
    "                 16.22,   17.45,   18.70,   19.97,  21.27,\n",
    "                 22.56,   23.87,   25.17,   26.46,  27.74,\n",
    "                 29.00,   30.24,   31.45,   32.65,  33.82,\n",
    "                 34.97,   36.09,   37.20,   38.29,  39.37,\n",
    "                 40.45,   41.53,   42.62,   43.73,  44.87,\n",
    "                 46.05,   47.28,   48.56,   49.93,  51.38,\n",
    "                 52.93,   54.61,   56.42,   58.38,  60.53,\n",
    "                 62.87,   65.43,   68.24,   71.33,  74.73,\n",
    "                 78.47,   82.61,   87.17,   92.21,  97.79,\n",
    "                103.96,  110.79,  118.35,  126.73, 136.01,\n",
    "                146.30,  157.71,  170.35,  184.37, 199.89,\n",
    "                217.09,  236.13,  257.21,  280.50, 306.24,\n",
    "                334.64,  365.93,  400.38,  438.23, 479.74,])"
   ]
  },
  {
   "cell_type": "markdown",
   "id": "199330f3-e39b-4804-abd9-b41c6193da4f",
   "metadata": {},
   "source": [
    "Now, generate a plot of the vertical grid resolutions for comparison."
   ]
  },
  {
   "cell_type": "code",
   "execution_count": null,
   "id": "bc3dcbeb-0597-4287-b686-dbcdc59151eb",
   "metadata": {},
   "outputs": [],
   "source": [
    "fig = plt.figure(figsize = (8,8))\n",
    "\n",
    "plt.subplot(2,3,1)\n",
    "plt.plot(delR_coarse, 1+np.arange(len(delR_coarse)))\n",
    "plt.gca().invert_yaxis()\n",
    "plt.ylabel('Depth Level')\n",
    "plt.title('Coarse\\nResolution (4$^{\\circ}$)')\n",
    "\n",
    "Z_coarse = np.cumsum(delR_coarse)\n",
    "plt.subplot(2,3,4)\n",
    "plt.plot(delR_coarse, Z_coarse)\n",
    "plt.gca().invert_yaxis()\n",
    "plt.xlabel('Cell\\nHeight (m)')\n",
    "plt.ylabel('Depth (m)')\n",
    "\n",
    "plt.subplot(2,3,2)\n",
    "plt.plot(delR_medium, 1+np.arange(len(delR_medium)))\n",
    "plt.gca().invert_yaxis()\n",
    "plt.title('Medium\\nResolution (1/3$^{\\circ}$)')\n",
    "\n",
    "Z_medium = np.cumsum(delR_medium)\n",
    "plt.subplot(2,3,5)\n",
    "plt.plot(delR_medium, Z_medium)\n",
    "plt.gca().invert_yaxis()\n",
    "plt.xlabel('Cell Height (m)')\n",
    "\n",
    "plt.subplot(2,3,3)\n",
    "plt.plot(delR_fine, 1+np.arange(len(delR_fine)))\n",
    "plt.gca().invert_yaxis()\n",
    "plt.title('Fine\\nResolution (1/48$^{\\circ}$)')\n",
    "\n",
    "Z_fine = np.cumsum(delR_fine)\n",
    "plt.subplot(2,3,6)\n",
    "plt.plot(delR_fine, Z_fine)\n",
    "plt.gca().invert_yaxis()\n",
    "plt.xlabel('Cell Height (m)')\n",
    "\n",
    "\n",
    "plt.tight_layout()\n",
    "\n",
    "plt.show()"
   ]
  },
  {
   "cell_type": "code",
   "execution_count": null,
   "id": "8182efb3-d90b-49d9-9b06-2404719f3b8d",
   "metadata": {},
   "outputs": [],
   "source": []
  }
 ],
 "metadata": {
  "kernelspec": {
   "display_name": "Python 3 (ipykernel)",
   "language": "python",
   "name": "python3"
  },
  "language_info": {
   "codemirror_mode": {
    "name": "ipython",
    "version": 3
   },
   "file_extension": ".py",
   "mimetype": "text/x-python",
   "name": "python",
   "nbconvert_exporter": "python",
   "pygments_lexer": "ipython3",
   "version": "3.12.7"
  }
 },
 "nbformat": 4,
 "nbformat_minor": 5
}
