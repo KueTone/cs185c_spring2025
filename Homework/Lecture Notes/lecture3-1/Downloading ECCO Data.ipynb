{
 "cells": [
  {
   "cell_type": "markdown",
   "id": "34989e05-15a5-4759-9930-54d255ed56ff",
   "metadata": {},
   "source": [
    "# Downloading ECCO Data\n",
    "\n",
    "Author: Mike Wood\n",
    "\n",
    "This notebook is designed to download ECCO data from the [ECCO Drive](https://ecco.jpl.nasa.gov/drive/).\n",
    "\n",
    "Note that you must have a [NASA Earthdata](https://www.earthdata.nasa.gov/) account. If you don't already have one, be sure to make one before using this notebook.\n",
    "\n",
    "When you first navigate to the [ECCO Drive](https://ecco.jpl.nasa.gov/drive/), you will be directed to a page with your WebDAV/Programmatic API credentials - these will be used when prompted for your credentials below.\n",
    "\n",
    "#### Import the modules for this notebook"
   ]
  },
  {
   "cell_type": "code",
   "execution_count": 34,
   "id": "3cb9f554-076d-4cf0-91cb-a6d7b2a79b71",
   "metadata": {},
   "outputs": [],
   "source": [
    "import requests\n",
    "from requests.auth import HTTPBasicAuth\n",
    "import os\n",
    "import calendar"
   ]
  },
  {
   "cell_type": "markdown",
   "id": "c1c8b363-a895-4915-8d2e-99ce04b1e3b6",
   "metadata": {},
   "source": [
    "#### Define the destination file path"
   ]
  },
  {
   "cell_type": "code",
   "execution_count": 35,
   "id": "67398b75-f002-4f0b-aca3-30b7eeefca33",
   "metadata": {},
   "outputs": [],
   "source": [
    "# define the path to the folder where the data will be downloaded\n",
    "download_folder = '/Users/johnathonlu/Documents/SJSU/cs185c_spring2025/Data/ECCO'"
   ]
  },
  {
   "cell_type": "markdown",
   "id": "3d5c73e1-42e2-4085-ac47-1762a41b4fba",
   "metadata": {},
   "source": [
    "#### Define the data request"
   ]
  },
  {
   "cell_type": "code",
   "execution_count": 42,
   "id": "65124b03-4801-4afd-9d55-4e51fdeac935",
   "metadata": {},
   "outputs": [],
   "source": [
    "# choose an ECCO version and release\n",
    "version = 'Version4' #e.g. Version4\n",
    "release = 'Release4' #e.g. Release4\n",
    "\n",
    "# choose a subset\n",
    "subset = 'interp_monthly' #e.g. interp_monthly\n",
    "\n",
    "# choose the variable to download\n",
    "var_name = 'SIarea' # e.g. SSHDYN\n",
    "\n",
    "# choose a start year and end year (in range 1992-2017)\n",
    "start_year = 1992\n",
    "end_year = 2017"
   ]
  },
  {
   "cell_type": "markdown",
   "id": "1cdc1404-0fc7-4a17-8c1d-10b7a9c2da73",
   "metadata": {},
   "source": [
    "#### Make a list of file paths\n",
    "Nothing to do here - just run this cell to generate the list."
   ]
  },
  {
   "cell_type": "code",
   "execution_count": 45,
   "id": "e1033587-6ec6-4689-a70e-2072a45236f3",
   "metadata": {},
   "outputs": [],
   "source": [
    "# define the base url\n",
    "base_url = 'https://ecco.jpl.nasa.gov/drive/files/'+version+'/'+release+'/'+subset+'/'+var_name\n",
    "# make a list of URls corresponding to the file dates\n",
    "file_urls = []\n",
    "# for year in range(start_year,end_year+1):\n",
    "#     for month in range(1,13):\n",
    "#         # find days in a month (ranges from 29-31)\n",
    "#         num_days = calendar.monthrange(year, month)[1]\n",
    "#         for day in range(1, num_days + 1):\n",
    "#             yr = str(year)\n",
    "#             mo = '{:02d}'.format(month)\n",
    "#             dy = '{:02d}'.format(day)\n",
    "#             file_name = var_name + '_' + yr + '_' +  mo + '.nc'\n",
    "#             file_url = base_url + '/' + file_name\n",
    "#             file_urls.append(file_url)\n",
    "for year in range(start_year,end_year+1):\n",
    "    for month in range(1,13):\n",
    "            yr = str(year)\n",
    "            mo = '{:02d}'.format(month)\n",
    "            file_name = var_name + '_' + yr + '_' +  mo + '.nc'\n",
    "            file_url = base_url + '/' + yr + '/' + file_name\n",
    "            file_urls.append(file_url)\n"
   ]
  },
  {
   "cell_type": "markdown",
   "id": "85042999-7368-410c-9426-167e894959e9",
   "metadata": {},
   "source": [
    "#### Download the data"
   ]
  },
  {
   "cell_type": "code",
   "execution_count": 46,
   "id": "19c0e188-105c-4578-8cb8-459a2d70848c",
   "metadata": {},
   "outputs": [
    {
     "name": "stdout",
     "output_type": "stream",
     "text": [
      "Enter your WebDAV/Programmatic API credentials\n"
     ]
    },
    {
     "name": "stdin",
     "output_type": "stream",
     "text": [
      "Enter your username: kuetone kuetone\n",
      "Enter your password: MSz1xgpj3xFRu#6OtJk MSz1xgpj3xFRu#6OtJk\n"
     ]
    },
    {
     "name": "stdout",
     "output_type": "stream",
     "text": [
      "Downloading SIarea_2017_04.nc (file 304 of 312)\n",
      "Downloading SIarea_2017_05.nc (file 305 of 312)\n",
      "Downloading SIarea_2017_06.nc (file 306 of 312)\n",
      "Downloading SIarea_2017_07.nc (file 307 of 312)\n",
      "Downloading SIarea_2017_08.nc (file 308 of 312)\n",
      "Downloading SIarea_2017_09.nc (file 309 of 312)\n",
      "Downloading SIarea_2017_10.nc (file 310 of 312)\n",
      "Downloading SIarea_2017_11.nc (file 311 of 312)\n",
      "Downloading SIarea_2017_12.nc (file 312 of 312)\n"
     ]
    }
   ],
   "source": [
    "print('Enter your WebDAV/Programmatic API credentials')\n",
    "# different from NASA login\n",
    "username = input('Enter your username: kuetone')\n",
    "password = input('Enter your password: MSz1xgpj3xFRu#6OtJk')\n",
    "\n",
    "# check that all of the subdirectories are created\n",
    "if version not in os.listdir(download_folder):\n",
    "    os.mkdir(os.path.join(download_folder,version))\n",
    "if release not in os.listdir(os.path.join(download_folder,version)):\n",
    "    os.mkdir(os.path.join(download_folder,version,release))\n",
    "if subset not in os.listdir(os.path.join(download_folder,version,release)):\n",
    "    os.mkdir(os.path.join(download_folder,version,release,subset))\n",
    "if var_name not in os.listdir(os.path.join(download_folder,version,release,subset)):\n",
    "    os.mkdir(os.path.join(download_folder,version,release,subset,var_name))\n",
    "\n",
    "# download all of the data\n",
    "for i in range(len(file_urls)):\n",
    "    url = file_urls[i]\n",
    "    file_name = url.split('/')[-1]\n",
    "    if file_name not in os.listdir(os.path.join(download_folder,version,release,subset,var_name)):\n",
    "        print('Downloading '+file_name+' (file '+str(i+1)+' of '+str(len(file_urls))+')')\n",
    "        output_file = os.path.join(download_folder,version,release,subset,var_name,file_name)\n",
    "        with requests.get(url, stream=True, allow_redirects=True, auth=HTTPBasicAuth(username, password)) as r:\n",
    "            r.raise_for_status()\n",
    "            with open(output_file, 'wb') as f:                   \n",
    "                for chunk in r.iter_content(chunk_size=8192):   \n",
    "                    f.write(chunk)"
   ]
  },
  {
   "cell_type": "markdown",
   "id": "41ad2087-807f-49c4-98af-1b4c05aa2209",
   "metadata": {},
   "source": [
    "Note: if the above cell fails before the download is complete, try re-running - often the API will reject downloads when there are too many pings in a given time interval."
   ]
  }
 ],
 "metadata": {
  "kernelspec": {
   "display_name": "cs185c",
   "language": "python",
   "name": "cs185c"
  },
  "language_info": {
   "codemirror_mode": {
    "name": "ipython",
    "version": 3
   },
   "file_extension": ".py",
   "mimetype": "text/x-python",
   "name": "python",
   "nbconvert_exporter": "python",
   "pygments_lexer": "ipython3",
   "version": "3.11.11"
  }
 },
 "nbformat": 4,
 "nbformat_minor": 5
}
